{
 "cells": [
  {
   "cell_type": "code",
   "execution_count": 48,
   "metadata": {},
   "outputs": [],
   "source": [
    "import pandas as pd\n",
    "import json\n",
    "import os\n",
    "import time"
   ]
  },
  {
   "cell_type": "markdown",
   "metadata": {},
   "source": [
    "Read data files"
   ]
  },
  {
   "cell_type": "code",
   "execution_count": 49,
   "metadata": {},
   "outputs": [],
   "source": [
    "test_folder = 'test_data_22_05'\n",
    "start_file = '2024-05-22 21_44_15.135255.json'\n",
    "\n",
    "# Get all files after the start file (including it)\n",
    "files = os.listdir(test_folder)\n",
    "files = sorted(files)[files.index(start_file):]"
   ]
  },
  {
   "cell_type": "code",
   "execution_count": 50,
   "metadata": {},
   "outputs": [],
   "source": [
    "# Collect all data points into one list\n",
    "json_data = []\n",
    "for file in files:\n",
    "    with open(os.path.join(test_folder, file), 'r') as f:\n",
    "        dic = json.load(f)\n",
    "        json_data.extend(dic['data'])\n"
   ]
  },
  {
   "cell_type": "markdown",
   "metadata": {},
   "source": [
    "Format time"
   ]
  },
  {
   "cell_type": "code",
   "execution_count": 51,
   "metadata": {},
   "outputs": [
    {
     "name": "stdout",
     "output_type": "stream",
     "text": [
      "00:15:30\n"
     ]
    }
   ],
   "source": [
    "start_time = json_data[0]['t']\n",
    "end_time = json_data[-1]['t']\n",
    "\n",
    "for i in range(len(json_data)):\n",
    "    json_data[i]['t'] = json_data[i]['t'] - start_time\n",
    "\n",
    "# Total time of recorded data\n",
    "print(time.strftime('%H:%M:%S', time.gmtime(json_data[-1]['t'])))"
   ]
  },
  {
   "cell_type": "markdown",
   "metadata": {},
   "source": [
    "Map dictionary items to bus numbers"
   ]
  },
  {
   "cell_type": "code",
   "execution_count": 52,
   "metadata": {},
   "outputs": [],
   "source": [
    "devices = [\"L_ARM_ESP32\", \"R_ARM_ESP32\", \"L_LEG_NRF52\", \"R_LEG_NRF52\"]\n",
    "\n",
    "device_data = dict.fromkeys(devices)\n",
    "\n",
    "for d in devices:\n",
    "    # Two buses\n",
    "    # Two MPUs and one QMC, then one MPU and one QMC\n",
    "    device_data[d] = [[[], [], []], [[], []]]\n",
    "\n",
    "for point in json_data:\n",
    "    for device in devices:\n",
    "        # Add empty data points for the missing data\n",
    "        for i in range(2):\n",
    "            for j in range(3):\n",
    "                if i == 1 and j == 2:\n",
    "                    continue\n",
    "                device_data[device][i][j].append(None)\n",
    "\n",
    "        if device not in point['v']:\n",
    "            continue\n",
    "\n",
    "        device_point = point['v'][device]\n",
    "        \n",
    "        # Remove missing MPU data\n",
    "        for i in range(len(device_point['mpu'])):\n",
    "            if device_point['mpu'][i] is None:\n",
    "                device_point['mpu'].pop(i)\n",
    "        \n",
    "        # Legs don't have qmc data\n",
    "        if device_point['qmc'] is None:\n",
    "            device_point['qmc'] = []\n",
    "        \n",
    "        mpu_len = len(device_point['mpu'])\n",
    "        qmc_len = len(device_point['qmc'])\n",
    "\n",
    "        # Assign the data points that exist\n",
    "        if mpu_len > 0:\n",
    "            device_data[device][0][0][-1] = device_point['mpu'][0]\n",
    "        if mpu_len > 1:\n",
    "            device_data[device][0][1][-1] = device_point['mpu'][1]\n",
    "        if qmc_len > 0:\n",
    "            device_data[device][0][2][-1] = device_point['qmc'][0]\n",
    "\n",
    "        if mpu_len > 2:\n",
    "            device_data[device][1][0][-1] = device_point['mpu'][2]\n",
    "        if qmc_len > 1:\n",
    "            device_data[device][1][1][-1] = device_point['qmc'][1]"
   ]
  },
  {
   "cell_type": "code",
   "execution_count": null,
   "metadata": {},
   "outputs": [],
   "source": [
    "print(f'# of missing points: {sum(1 for x in device_data[devices[0]][0][0] if x is None)}')\n",
    "device_data[devices[0]][0][0]"
   ]
  },
  {
   "cell_type": "markdown",
   "metadata": {},
   "source": [
    "Map bus numbers to location names"
   ]
  },
  {
   "cell_type": "code",
   "execution_count": 54,
   "metadata": {},
   "outputs": [],
   "source": [
    "device_locations = {\n",
    "    'L_ARM_ESP32': [['8 Acc LUA^ accX', '17 Acc BACK accX', '83 IMU LUA magneticX'], ['14 Acc LH accX', '96 IMU LLA magneticX']],\n",
    "    'R_ARM_ESP32': [['11 Acc RUA_ accX', '23 Acc RWR accX', '57 IMU RUA magneticX'], ['5 Acc HIP accX', '44 IMU BACK magneticX']],\n",
    "    'L_LEG_NRF52': [['103 IMU L-SHOE EuX'], []],\n",
    "    # 'R_LEG_NRF52': [['20 Acc RKN_ accX', '119 IMU R-SHOE EuX'], []],\n",
    "    \n",
    "    # FIXME: This is only for that run on 22/05 when the 2nd mpu was not connected\n",
    "    # Either RKN or R-SHOE was lost. Need to check data and compare with L-SHOE, also check that stepping movement we did with each foot\n",
    "    'R_LEG_NRF52': [['119 IMU R-SHOE EuX'], []],\n",
    "}\n",
    "\n",
    "acc_to_imu = {\n",
    "    '8 Acc LUA^ accX': '77 IMU LUA accX',\n",
    "    '17 Acc BACK accX': '38 IMU BACK accX',\n",
    "    '11 Acc RUA_ accX': '51 IMU RUA accX',\n",
    "}\n",
    "\n",
    "is_euler = ['103 IMU L-SHOE EuX']\n",
    "\n",
    "device_columns = {}\n",
    "\n",
    "for device in device_locations:\n",
    "    for i in range(len(device_locations[device])):\n",
    "        for j in range(len(device_locations[device][i])):\n",
    "            if device_locations[device][i][j] == '':\n",
    "                continue\n",
    "            \n",
    "            # Normalize device data\n",
    "            for k in range(len(device_data[device][i][j])):\n",
    "                if device_data[device][i][j][k] is None:\n",
    "                    device_data[device][i][j][k] = {'q': [None] * 4, 'e': [None] * 3, 'g': [None] * 3, 'a': [None] * 3, 'm': [None] * 3}\n",
    "\n",
    "            sample_point = device_data[device][i][j][0]\n",
    "            initial_column_name = device_locations[device][i][j]\n",
    "            \n",
    "            initial_column_index = int(initial_column_name.split(' ')[0])\n",
    "            initial_column_name = ' '.join(initial_column_name.split(' ')[1:])\n",
    "\n",
    "            axes = ['X', 'Y', 'Z']\n",
    "            \n",
    "            def add_columns(key):\n",
    "                for k in range(3):\n",
    "                    device_columns[f'{initial_column_index + k} {initial_column_name[:-1] + axes[k]}'] = [round(x[key][k]) if x[key][k] is not None else None for x in device_data[device][i][j]]\n",
    "\n",
    "            if 'a' in sample_point:\n",
    "                # MPU\n",
    "\n",
    "                if 'SHOE EuX' in initial_column_name:\n",
    "                    # Euler angles\n",
    "                    add_columns('e')\n",
    "                    \n",
    "                    # Skip Nav_A\n",
    "                    initial_column_index += 3\n",
    "                    \n",
    "                    initial_column_name = initial_column_name.replace('Eu', 'Body_A')\n",
    "                    initial_column_index += 3\n",
    "                    \n",
    "                    # Body acceleration\n",
    "                    axes = ['x', 'y', 'z']\n",
    "                    add_columns('a')\n",
    "                    axes = ['X', 'Y', 'Z']\n",
    "                        \n",
    "                    initial_column_name = initial_column_name.replace('Body_A', 'AngVelBodyFrame')\n",
    "                    initial_column_index += 3\n",
    "\n",
    "                    # Body angular velocity\n",
    "                    add_columns('g')\n",
    "\n",
    "                    # Ignore Nav angular velocity and compass\n",
    "\n",
    "                    continue\n",
    "\n",
    "                # Acceleration\n",
    "                add_columns('a')\n",
    "\n",
    "                # IMU\n",
    "                if device_locations[device][i][j] in acc_to_imu:\n",
    "                    initial_imu_name = acc_to_imu[device_locations[device][i][j]]\n",
    "                    \n",
    "                    initial_imu_index = int(initial_imu_name.split(' ')[0])\n",
    "                    initial_imu_name = ' '.join(initial_imu_name.split(' ')[1:])\n",
    "                    \n",
    "                    def add_imu_columns(key):\n",
    "                        for k in range(3):\n",
    "                            device_columns[f'{initial_imu_index + k} {initial_imu_name[:-1] + axes[k]}'] = [round(x[key][k]) if x[key][k] is not None else None for x in device_data[device][i][j]]\n",
    "\n",
    "                    \n",
    "                    # Acceleration\n",
    "                    add_imu_columns('a')\n",
    "                    \n",
    "                    initial_imu_name = initial_imu_name.replace('acc', 'gyro')\n",
    "                    initial_imu_index += 3\n",
    "                    \n",
    "                    # Gyro\n",
    "                    add_imu_columns('g')\n",
    "                    \n",
    "                    # Skip Magnetic\n",
    "                    initial_imu_index += 3\n",
    "                    \n",
    "                    initial_imu_name = initial_imu_name.replace('gyro' + axes[0], 'Quaternion1')\n",
    "                    initial_imu_index += 3\n",
    "                    \n",
    "                    # Quaternion\n",
    "                    for k in range(4):\n",
    "                        device_columns[f'{initial_imu_index + k} {initial_imu_name[:-1] + str(k+1)}'] = [round(x['q'][k]) if x['q'][k] is not None else None for x in device_data[device][i][j]]\n",
    "\n",
    "            elif 'm' in sample_point:\n",
    "                # QMC\n",
    "                \n",
    "                # Magnetic\n",
    "                for k in range(3):\n",
    "                    device_columns[f'{initial_column_index + k} {initial_column_name[:-1] + axes[k]}'] = [round(x['m'][k]) if x['m'][k] is not None else None for x in device_data[device][i][j]]\n",
    "\n"
   ]
  },
  {
   "cell_type": "code",
   "execution_count": null,
   "metadata": {},
   "outputs": [],
   "source": [
    "print(len(device_columns))\n",
    "print(list(device_columns.keys()))\n",
    "print(len(device_columns['83 IMU LUA magneticX']))"
   ]
  },
  {
   "cell_type": "markdown",
   "metadata": {},
   "source": [
    "Add time column in ms"
   ]
  },
  {
   "cell_type": "code",
   "execution_count": 56,
   "metadata": {},
   "outputs": [
    {
     "name": "stdout",
     "output_type": "stream",
     "text": [
      "[0, 1024, 2339, 3704, 4631, 5752, 6825, 7897, 8970, 10140]\n"
     ]
    }
   ],
   "source": [
    "time_column = [round(x['t'] * 1000) for x in json_data]\n",
    "print(time_column[:10])"
   ]
  },
  {
   "cell_type": "markdown",
   "metadata": {},
   "source": [
    "Fill in all the missing columns with empty values"
   ]
  },
  {
   "cell_type": "code",
   "execution_count": 57,
   "metadata": {},
   "outputs": [],
   "source": [
    "column_numbers = [int(x.split(' ')[0]) for x in device_columns.keys()]\n",
    "\n",
    "for i in range(2, 251):\n",
    "    if i not in column_numbers:\n",
    "        device_columns[f'{i}'] = [None] * len(time_column)\n",
    "\n",
    "# Re-insert all the columns in sorted order\n",
    "sorted_columns = {}\n",
    "for key in sorted(device_columns.keys(), key=lambda x: int(x.split(' ')[0])):\n",
    "    sorted_columns[key] = device_columns[key]\n",
    "\n",
    "device_columns = sorted_columns"
   ]
  },
  {
   "cell_type": "code",
   "execution_count": 58,
   "metadata": {},
   "outputs": [],
   "source": [
    "for c in device_columns:\n",
    "    for i in range(len(device_columns[c])):\n",
    "        if device_columns[c][i] is False:\n",
    "            print('False!')\n",
    "            \n",
    "            device_columns[c][i] = 0"
   ]
  },
  {
   "cell_type": "markdown",
   "metadata": {},
   "source": [
    "Combine columns into a csv and export"
   ]
  },
  {
   "cell_type": "code",
   "execution_count": 59,
   "metadata": {},
   "outputs": [],
   "source": [
    "# Create dataframe with time column and all the device data\n",
    "df = pd.DataFrame({'1 MILLISEC': time_column, **device_columns}, dtype='Int64')\n",
    "\n",
    "# Save dataframe as CSV with space separated values\n",
    "df.to_csv('test_data_22_05.csv', sep=' ', index=False, na_rep='NaN')"
   ]
  }
 ],
 "metadata": {
  "kernelspec": {
   "display_name": "Python 3",
   "language": "python",
   "name": "python3"
  },
  "language_info": {
   "codemirror_mode": {
    "name": "ipython",
    "version": 3
   },
   "file_extension": ".py",
   "mimetype": "text/x-python",
   "name": "python",
   "nbconvert_exporter": "python",
   "pygments_lexer": "ipython3",
   "version": "3.11.4"
  }
 },
 "nbformat": 4,
 "nbformat_minor": 2
}
