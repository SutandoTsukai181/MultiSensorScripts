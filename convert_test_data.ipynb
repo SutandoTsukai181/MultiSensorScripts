{
 "cells": [
  {
   "cell_type": "code",
   "execution_count": 133,
   "metadata": {},
   "outputs": [],
   "source": [
    "import pandas as pd\n",
    "import json\n",
    "import os\n",
    "import time"
   ]
  },
  {
   "cell_type": "markdown",
   "metadata": {},
   "source": [
    "Read data files"
   ]
  },
  {
   "cell_type": "code",
   "execution_count": 134,
   "metadata": {},
   "outputs": [],
   "source": [
    "pose_type = 'walking'\n",
    "test_folder = f'test_data_30_05/{pose_type}'\n",
    "\n",
    "# Get all files after the start file (including it)\n",
    "files = os.listdir(test_folder)\n",
    "files = sorted(files)\n",
    "\n",
    "# start_file = '2024-05-22 21_44_15.135255.json'\n",
    "# files = sorted(files)[files.index(start_file):]"
   ]
  },
  {
   "cell_type": "code",
   "execution_count": 135,
   "metadata": {},
   "outputs": [],
   "source": [
    "# Collect all data points into one list\n",
    "json_data = []\n",
    "for file in files:\n",
    "    with open(os.path.join(test_folder, file), 'r') as f:\n",
    "        dic = json.load(f)\n",
    "        json_data.extend(dic['data'])\n"
   ]
  },
  {
   "cell_type": "markdown",
   "metadata": {},
   "source": [
    "Format time"
   ]
  },
  {
   "cell_type": "code",
   "execution_count": 136,
   "metadata": {},
   "outputs": [
    {
     "name": "stdout",
     "output_type": "stream",
     "text": [
      "1717075196.3581448\n",
      "00:06:16\n"
     ]
    }
   ],
   "source": [
    "start_time = json_data[0]['time']\n",
    "end_time = json_data[-1]['time']\n",
    "\n",
    "print(start_time)\n",
    "\n",
    "for i in range(len(json_data)):\n",
    "    json_data[i]['time'] = json_data[i]['time'] - start_time\n",
    "\n",
    "# Total time of recorded data\n",
    "print(time.strftime('%H:%M:%S', time.gmtime(json_data[-1]['time'])))"
   ]
  },
  {
   "cell_type": "markdown",
   "metadata": {},
   "source": [
    "Remove duplicate points (when data was updated too slowly)"
   ]
  },
  {
   "cell_type": "code",
   "execution_count": 137,
   "metadata": {},
   "outputs": [],
   "source": [
    "# Remove points with duplicate time\n",
    "json_data = [json_data[i] for i in range(len(json_data)) if i == 0 or json_data[i]['time'] != json_data[i-1]['time']]"
   ]
  },
  {
   "cell_type": "markdown",
   "metadata": {},
   "source": [
    "Map dictionary items to bus numbers"
   ]
  },
  {
   "cell_type": "code",
   "execution_count": 138,
   "metadata": {},
   "outputs": [],
   "source": [
    "devices = [\"LEFT_ARM\", \"RIGHT_ARM\", \"LEFT_LEG\", \"RIGHT_LEG\"]\n",
    "\n",
    "device_data = dict.fromkeys(devices)\n",
    "\n",
    "for d in devices:\n",
    "    # Two buses\n",
    "    # Two MPUs and one QMC, then one MPU and one QMC\n",
    "    device_data[d] = [[[], [], []], [[], []]]\n",
    "\n",
    "for point in json_data:\n",
    "    for device in devices:\n",
    "        # Add empty data points for the missing data\n",
    "        for i in range(2):\n",
    "            for j in range(3):\n",
    "                if i == 1 and j == 2:\n",
    "                    continue\n",
    "                device_data[device][i][j].append(None)\n",
    "\n",
    "        if device not in point:\n",
    "            continue\n",
    "\n",
    "        device_point = point[device]['data']\n",
    "        \n",
    "        if 'mpu' not in device_point:\n",
    "            continue\n",
    "        \n",
    "        # Remove missing MPU data\n",
    "        for i in range(0, len(device_point['mpu']), -1):\n",
    "            if device_point['mpu'][i] is None:\n",
    "                device_point['mpu'].pop(i)\n",
    "        \n",
    "        # Legs don't have qmc data\n",
    "        if device_point['qmc'] is None:\n",
    "            device_point['qmc'] = []\n",
    "        \n",
    "        mpu_len = len(device_point['mpu'])\n",
    "        qmc_len = len(device_point['qmc'])\n",
    "\n",
    "        # Assign the data points that exist\n",
    "        if mpu_len > 0:\n",
    "            device_data[device][0][0][-1] = device_point['mpu'][0]\n",
    "        if mpu_len > 1:\n",
    "            device_data[device][0][1][-1] = device_point['mpu'][1]\n",
    "        if qmc_len > 0:\n",
    "            device_data[device][0][2][-1] = device_point['qmc'][0]\n",
    "\n",
    "        if mpu_len > 2:\n",
    "            device_data[device][1][0][-1] = device_point['mpu'][2]\n",
    "        if qmc_len > 1:\n",
    "            device_data[device][1][1][-1] = device_point['qmc'][1]"
   ]
  },
  {
   "cell_type": "code",
   "execution_count": 139,
   "metadata": {},
   "outputs": [
    {
     "name": "stdout",
     "output_type": "stream",
     "text": [
      "# of missing points: 0\n"
     ]
    },
    {
     "data": {
      "text/plain": [
       "[{'q': [-316, 498, 58, -804],\n",
       "  'e': [-123, 57, 24],\n",
       "  'g': [-5000, -11000, 6000],\n",
       "  'a': [82, -25, 349]},\n",
       " {'q': [897, -152, 413, -25],\n",
       "  'e': [-7, -48, 22],\n",
       "  'g': [2000, 7000, 5000],\n",
       "  'a': [455, -686, 920]},\n",
       " {'q': [-226, 421, 127, -868],\n",
       "  'e': [-152, 52, -2],\n",
       "  'g': [4000, 1000, 24000],\n",
       "  'a': [-628, -730, -91]},\n",
       " {'q': [664, 67, 443, -597],\n",
       "  'e': [97, -30, -46],\n",
       "  'g': [5000, 2000, -15000],\n",
       "  'a': [176, 566, 810]},\n",
       " {'q': [-36, 366, 218, -903],\n",
       "  'e': [172, 42, -30],\n",
       "  'g': [-14000, -33000, -27000],\n",
       "  'a': [174, 411, -265]},\n",
       " {'q': [-888, 265, -372, -39],\n",
       "  'e': [-20, -39, 40],\n",
       "  'g': [12000, 18000, 9000],\n",
       "  'a': [990, 550, 533]},\n",
       " {'q': [-358, -285, -323, 827],\n",
       "  'e': [126, 13, -49],\n",
       "  'g': [-23000, -19000, 57000],\n",
       "  'a': [-392, 365, -105]}]"
      ]
     },
     "execution_count": 139,
     "metadata": {},
     "output_type": "execute_result"
    }
   ],
   "source": [
    "print(f'# of missing points: {sum(1 for x in device_data[devices[0]][0][0] if x is None)}')\n",
    "device_data[devices[0]][0][0]"
   ]
  },
  {
   "cell_type": "markdown",
   "metadata": {},
   "source": [
    "Map bus numbers to location names"
   ]
  },
  {
   "cell_type": "code",
   "execution_count": 140,
   "metadata": {},
   "outputs": [],
   "source": [
    "device_locations = {\n",
    "    'LEFT_ARM': [['8 Acc LUA^ accX', '17 Acc BACK accX', '83 IMU LUA magneticX'], ['14 Acc LH accX', '96 IMU LLA magneticX']],\n",
    "    'RIGHT_ARM': [['11 Acc RUA_ accX', '23 Acc RWR accX', '57 IMU RUA magneticX'], ['5 Acc HIP accX', '44 IMU BACK magneticX']],\n",
    "    'LEFT_LEG': [['103 IMU L-SHOE EuX'], []],\n",
    "    'RIGHT_LEG': [['20 Acc RKN_ accX', '119 IMU R-SHOE EuX'], []],\n",
    "    # 'RIGHT_LEG': [['20 Acc RKN_ accX', '128 IMU R-SHOE AngVelBodyFrameX'], []],\n",
    "\n",
    "    # FIXME: This is only for that run on 22/05 when the 2nd mpu was not connected\n",
    "    # Either RKN or R-SHOE was lost. Need to check data and compare with L-SHOE, also check that stepping movement we did with each foot\n",
    "    # 'R_LEG_NRF52': [['119 IMU R-SHOE EuX'], []],\n",
    "}\n",
    "\n",
    "acc_to_imu = {\n",
    "    '8 Acc LUA^ accX': '77 IMU LUA accX',\n",
    "    '17 Acc BACK accX': '38 IMU BACK accX',\n",
    "    '11 Acc RUA_ accX': '51 IMU RUA accX',\n",
    "}\n",
    "\n",
    "is_euler = ['103 IMU L-SHOE EuX']\n",
    "\n",
    "device_columns = {}\n",
    "\n",
    "for device in device_locations:\n",
    "    for i in range(len(device_locations[device])):\n",
    "        for j in range(len(device_locations[device][i])):\n",
    "            if device_locations[device][i][j] == '':\n",
    "                continue\n",
    "            \n",
    "            # Normalize device data\n",
    "            for k in range(len(device_data[device][i][j])):\n",
    "                if device_data[device][i][j][k] is None:\n",
    "                    device_data[device][i][j][k] = {}\n",
    "\n",
    "                if 'q' not in device_data[device][i][j][k]:\n",
    "                    device_data[device][i][j][k]['q'] = [None] * 4\n",
    "\n",
    "                for key in ['e', 'a', 'g', 'm']:\n",
    "                    if key not in device_data[device][i][j][k]:\n",
    "                        device_data[device][i][j][k][key] = [None] * 3\n",
    "\n",
    "            sample_point = device_data[device][i][j][0]\n",
    "            initial_column_name = device_locations[device][i][j]\n",
    "            \n",
    "            initial_column_index = int(initial_column_name.split(' ')[0])\n",
    "            initial_column_name = ' '.join(initial_column_name.split(' ')[1:])\n",
    "\n",
    "            axes = ['X', 'Y', 'Z']\n",
    "            \n",
    "            # print(sample_point)\n",
    "            # print([x['g'][0] if x['g'][0] is not None else None for x in device_data[device][i][j]])\n",
    "            \n",
    "            # for x in device_data[device][i][j]:\n",
    "            #     if isinstance(x['g'], str):\n",
    "            #         print(x)\n",
    "            \n",
    "            def add_columns(key):\n",
    "                # try:\n",
    "                for k in range(3):\n",
    "                    device_columns[f'{initial_column_index + k} {initial_column_name[:-1] + axes[k]}'] = [round(x[key][k]) if x[key][k] is not None else None for x in device_data[device][i][j]]\n",
    "                # except Exception as e:\n",
    "                #     print(e)\n",
    "                #     print(device_data[device][i][j])\n",
    "\n",
    "            if 'a' in sample_point:\n",
    "                # MPU\n",
    "\n",
    "                if 'SHOE EuX' in initial_column_name:\n",
    "                    # Euler angles\n",
    "                    if 'e' in sample_point:\n",
    "                        add_columns('e')\n",
    "                    \n",
    "                    # Skip Nav_A\n",
    "                    initial_column_index += 3\n",
    "                    \n",
    "                    initial_column_name = initial_column_name.replace('Eu', 'Body_A')\n",
    "                    initial_column_index += 3\n",
    "\n",
    "                    # Body acceleration\n",
    "                    axes = ['x', 'y', 'z']\n",
    "                    add_columns('a')\n",
    "                    axes = ['X', 'Y', 'Z']\n",
    "\n",
    "                    initial_column_name = initial_column_name.replace('Body_A', 'AngVelBodyFrame')\n",
    "                    initial_column_index += 3\n",
    "\n",
    "                    # Body angular velocity\n",
    "                    if 'g' in sample_point:\n",
    "                        add_columns('g')\n",
    "\n",
    "                    # Ignore Nav angular velocity and compass\n",
    "\n",
    "                    continue\n",
    "\n",
    "                # Acceleration\n",
    "                add_columns('a')\n",
    "\n",
    "                # IMU\n",
    "                if device_locations[device][i][j] in acc_to_imu:\n",
    "                    initial_imu_name = acc_to_imu[device_locations[device][i][j]]\n",
    "                    \n",
    "                    initial_imu_index = int(initial_imu_name.split(' ')[0])\n",
    "                    initial_imu_name = ' '.join(initial_imu_name.split(' ')[1:])\n",
    "                    \n",
    "                    def add_imu_columns(key):\n",
    "                        for k in range(3):\n",
    "                            device_columns[f'{initial_imu_index + k} {initial_imu_name[:-1] + axes[k]}'] = [round(x[key][k]) if x[key][k] is not None else None for x in device_data[device][i][j]]\n",
    "\n",
    "                    # Acceleration\n",
    "                    add_imu_columns('a')\n",
    "                    \n",
    "                    initial_imu_name = initial_imu_name.replace('acc', 'gyro')\n",
    "                    initial_imu_index += 3\n",
    "                    \n",
    "                    # Gyro\n",
    "                    if 'g' in sample_point:\n",
    "                        add_imu_columns('g')\n",
    "                    \n",
    "                    # Skip Magnetic\n",
    "                    initial_imu_index += 3\n",
    "                    \n",
    "                    initial_imu_name = initial_imu_name.replace('gyro' + axes[0], 'Quaternion1')\n",
    "                    initial_imu_index += 3\n",
    "                    \n",
    "                    # Quaternion\n",
    "                    for k in range(4):\n",
    "                        device_columns[f'{initial_imu_index + k} {initial_imu_name[:-1] + str(k+1)}'] = [round(x['q'][k]) if x['q'][k] is not None else None for x in device_data[device][i][j]]\n",
    "\n",
    "            elif 'm' in sample_point:\n",
    "                # QMC\n",
    "                \n",
    "                # Magnetic\n",
    "                for k in range(3):\n",
    "                    device_columns[f'{initial_column_index + k} {initial_column_name[:-1] + axes[k]}'] = [round(x['m'][k]) if x['m'][k] is not None else None for x in device_data[device][i][j]]\n",
    "\n"
   ]
  },
  {
   "cell_type": "code",
   "execution_count": 141,
   "metadata": {},
   "outputs": [
    {
     "name": "stdout",
     "output_type": "stream",
     "text": [
      "81\n",
      "['8 Acc LUA^ accX', '9 Acc LUA^ accY', '10 Acc LUA^ accZ', '77 IMU LUA accX', '78 IMU LUA accY', '79 IMU LUA accZ', '80 IMU LUA gyroX', '81 IMU LUA gyroY', '82 IMU LUA gyroZ', '86 IMU LUA Quaternion1', '87 IMU LUA Quaternion2', '88 IMU LUA Quaternion3', '89 IMU LUA Quaternion4', '17 Acc BACK accX', '18 Acc BACK accY', '19 Acc BACK accZ', '38 IMU BACK accX', '39 IMU BACK accY', '40 IMU BACK accZ', '41 IMU BACK gyroX', '42 IMU BACK gyroY', '43 IMU BACK gyroZ', '47 IMU BACK Quaternion1', '48 IMU BACK Quaternion2', '49 IMU BACK Quaternion3', '50 IMU BACK Quaternion4', '83 IMU LUA magneticX', '84 IMU LUA magneticY', '85 IMU LUA magneticZ', '14 Acc LH accX', '15 Acc LH accY', '16 Acc LH accZ', '96 IMU LLA magneticX', '97 IMU LLA magneticY', '98 IMU LLA magneticZ', '11 Acc RUA_ accX', '12 Acc RUA_ accY', '13 Acc RUA_ accZ', '51 IMU RUA accX', '52 IMU RUA accY', '53 IMU RUA accZ', '54 IMU RUA gyroX', '55 IMU RUA gyroY', '56 IMU RUA gyroZ', '60 IMU RUA Quaternion1', '61 IMU RUA Quaternion2', '62 IMU RUA Quaternion3', '63 IMU RUA Quaternion4', '23 Acc RWR accX', '24 Acc RWR accY', '25 Acc RWR accZ', '57 IMU RUA magneticX', '58 IMU RUA magneticY', '59 IMU RUA magneticZ', '5 Acc HIP accX', '6 Acc HIP accY', '7 Acc HIP accZ', '44 IMU BACK magneticX', '45 IMU BACK magneticY', '46 IMU BACK magneticZ', '103 IMU L-SHOE EuX', '104 IMU L-SHOE EuY', '105 IMU L-SHOE EuZ', '109 IMU L-SHOE Body_Ax', '110 IMU L-SHOE Body_Ay', '111 IMU L-SHOE Body_Az', '112 IMU L-SHOE AngVelBodyFrameX', '113 IMU L-SHOE AngVelBodyFrameY', '114 IMU L-SHOE AngVelBodyFrameZ', '20 Acc RKN_ accX', '21 Acc RKN_ accY', '22 Acc RKN_ accZ', '119 IMU R-SHOE EuX', '120 IMU R-SHOE EuY', '121 IMU R-SHOE EuZ', '125 IMU R-SHOE Body_Ax', '126 IMU R-SHOE Body_Ay', '127 IMU R-SHOE Body_Az', '128 IMU R-SHOE AngVelBodyFrameX', '129 IMU R-SHOE AngVelBodyFrameY', '130 IMU R-SHOE AngVelBodyFrameZ']\n",
      "7\n"
     ]
    }
   ],
   "source": [
    "print(len(device_columns))\n",
    "print(list(device_columns.keys()))\n",
    "print(len(device_columns['83 IMU LUA magneticX']))"
   ]
  },
  {
   "cell_type": "markdown",
   "metadata": {},
   "source": [
    "Add time column in ms"
   ]
  },
  {
   "cell_type": "code",
   "execution_count": 142,
   "metadata": {},
   "outputs": [
    {
     "name": "stdout",
     "output_type": "stream",
     "text": [
      "[0, 65131, 125878, 193686, 257593, 314104, 376554]\n"
     ]
    }
   ],
   "source": [
    "time_column = [round(x['time'] * 1000) for x in json_data]\n",
    "print(time_column[:10])"
   ]
  },
  {
   "cell_type": "markdown",
   "metadata": {},
   "source": [
    "Fill in all the missing columns with empty values"
   ]
  },
  {
   "cell_type": "code",
   "execution_count": 143,
   "metadata": {},
   "outputs": [],
   "source": [
    "column_numbers = [int(x.split(' ')[0]) for x in device_columns.keys()]\n",
    "\n",
    "for i in range(2, 251):\n",
    "    if i not in column_numbers:\n",
    "        device_columns[f'{i}'] = [None] * len(time_column)\n",
    "\n",
    "# Re-insert all the columns in sorted order\n",
    "sorted_columns = {}\n",
    "for key in sorted(device_columns.keys(), key=lambda x: int(x.split(' ')[0])):\n",
    "    sorted_columns[key] = device_columns[key]\n",
    "\n",
    "device_columns = sorted_columns"
   ]
  },
  {
   "cell_type": "markdown",
   "metadata": {},
   "source": [
    "Combine columns into a csv and export"
   ]
  },
  {
   "cell_type": "code",
   "execution_count": 144,
   "metadata": {},
   "outputs": [],
   "source": [
    "# Create dataframe with time column and all the device data\n",
    "df = pd.DataFrame({'1 MILLISEC': time_column, **device_columns}, dtype='Int64')\n",
    "\n",
    "# Save dataframe as CSV with space separated values\n",
    "df.to_csv(f'test_data_30_05_{pose_type}.csv', sep=' ', index=False, na_rep='NaN')"
   ]
  }
 ],
 "metadata": {
  "kernelspec": {
   "display_name": "Python 3",
   "language": "python",
   "name": "python3"
  },
  "language_info": {
   "codemirror_mode": {
    "name": "ipython",
    "version": 3
   },
   "file_extension": ".py",
   "mimetype": "text/x-python",
   "name": "python",
   "nbconvert_exporter": "python",
   "pygments_lexer": "ipython3",
   "version": "3.11.4"
  }
 },
 "nbformat": 4,
 "nbformat_minor": 2
}
