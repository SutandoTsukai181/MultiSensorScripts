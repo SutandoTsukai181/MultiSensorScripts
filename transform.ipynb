{
 "cells": [
  {
   "cell_type": "code",
   "execution_count": 14,
   "metadata": {},
   "outputs": [],
   "source": [
    "from mathutils import Vector\n",
    "import pandas as pd"
   ]
  },
  {
   "cell_type": "code",
   "execution_count": 15,
   "metadata": {},
   "outputs": [],
   "source": [
    "def sec_to_index(sec):\n",
    "    return sec * 1000 // 33"
   ]
  },
  {
   "cell_type": "markdown",
   "metadata": {},
   "source": [
    "## Extract columns from dataset"
   ]
  },
  {
   "cell_type": "code",
   "execution_count": null,
   "metadata": {},
   "outputs": [],
   "source": [
    "dataset_columns = ['8 Acc LUA^ accX', '9 Acc LUA^ accY', '10 Acc LUA^ accZ']\n",
    "# dataset_columns = ['14 Acc LH accX', '15 Acc LH accY', '16 Acc LH accZ']\n",
    "\n",
    "csv_dataset_path = 'E:/University/Courses/CNG 492/workspace/scripts/S1-ADL1_sensors_data.txt.new.csv'\n",
    "df_dataset = pd.read_csv(csv_dataset_path)\n",
    "vectors_dataset = [Vector(row[dataset_columns].tolist()) for _, row in df_dataset.iterrows()]\n",
    "\n",
    "# Save vectors_dataset into a csv file for later use\n",
    "df_rows = pd.DataFrame(df_dataset, columns=dataset_columns)\n",
    "vectors_dataset_df = pd.DataFrame(df_rows)\n",
    "# vectors_dataset_df.to_csv('E:/University/Courses/CNG 492/workspace/scripts/arduino_output/vectors_dataset.csv', index=False)\n"
   ]
  },
  {
   "cell_type": "code",
   "execution_count": 58,
   "metadata": {},
   "outputs": [],
   "source": [
    "# Specify the path to the CSV file\n",
    "# You can use any file here for applying the transformation, but the data you use to calculate the transformation should be from a static period \n",
    "csv_path = 'E:/University/Courses/CNG 492/workspace/scripts/arduino_output/arduino_data_worldacc_20240502_072215.csv'\n",
    "# csv_path = 'E:/University/Courses/CNG 492/workspace/scripts/arduino_output/arduino_data_worldacc_LUA_Lie_20240502_112414.csv'\n",
    "\n",
    "vectors_dataset_csv_path = 'E:/University/Courses/CNG 492/workspace/scripts/arduino_output/vectors_dataset.csv'"
   ]
  },
  {
   "cell_type": "code",
   "execution_count": 59,
   "metadata": {},
   "outputs": [],
   "source": [
    "# Read the CSV file into a dataframe\n",
    "df = pd.read_csv(csv_path)\n",
    "# vectors_dataset_df = pd.read_csv(vectors_dataset_csv_path)\n",
    "\n",
    "vectors = [Vector(row.tolist()[1:]) for _, row in df.iterrows()]\n",
    "vectors_dataset = [Vector(row.tolist()) for _, row in vectors_dataset_df.iterrows()]"
   ]
  },
  {
   "cell_type": "code",
   "execution_count": null,
   "metadata": {},
   "outputs": [],
   "source": [
    "print(vectors[:10])"
   ]
  },
  {
   "cell_type": "code",
   "execution_count": 52,
   "metadata": {},
   "outputs": [
    {
     "name": "stdout",
     "output_type": "stream",
     "text": [
      "v1: [Vector((3.1600000858306885, 20.1299991607666, 0.6700000166893005)), Vector((3.109999895095825, 17.31999969482422, -3.4000000953674316)), Vector((3.640000104904175, 21.389999389648438, 0.6000000238418579)), Vector((3.740000009536743, 24.329999923706055, 0.9900000095367432)), Vector((5.199999809265137, 26.18000030517578, 2.380000114440918)), Vector((4.860000133514404, 27.790000915527344, 2.2699999809265137)), Vector((7.679999828338623, 28.68000030517578, 1.090000033378601)), Vector((6.929999828338623, 33.7599983215332, 3.0)), Vector((7.510000228881836, 33.0, 1.6200000047683716)), Vector((7.920000076293945, 25.510000228881836, -0.7699999809265137))]\n",
      "v2: [Vector((109.0, 997.0, 41.0)), Vector((99.0, 1005.0, 39.0)), Vector((131.0, 1013.0, 32.0)), Vector((113.0, 1052.0, 42.0)), Vector((132.0, 1025.0, 19.0)), Vector((151.0, 998.0, 10.0)), Vector((144.0, 996.0, 8.0)), Vector((156.0, 997.0, 24.0)), Vector((144.0, 1000.0, 22.0)), Vector((143.0, 1016.0, 2.0))]\n",
      "v1 mean: Vector((7.408000469207764, 24.659669876098633, -1.8883335590362549))\n",
      "v2 mean: Vector((153.20001220703125, 1007.7667236328125, 12.000000953674316))\n",
      "Quaternion((0.9966190457344055, 0.041916392743587494, -0.007209147326648235, 0.0702955424785614))\n"
     ]
    }
   ],
   "source": [
    "# IMPORTANT: Update intervals here according to the data you have\n",
    "# Interval: 0s to 1s for vectors, 18s to 19s for vectors_dataset\n",
    "\n",
    "vecs1 = []\n",
    "vecs2 = []\n",
    "# quats = []\n",
    "for i in range(1000 // 33):\n",
    "    v1 = vectors[sec_to_index(0) + i]\n",
    "    v2 = vectors_dataset[sec_to_index(18) + i]\n",
    "\n",
    "    vecs1.append(v1)\n",
    "    vecs2.append(v2)\n",
    "\n",
    "    # # Rotation difference between v1 and v2\n",
    "    # q1 = v1.rotation_difference(v2)\n",
    "\n",
    "    # quats.append(q1)\n",
    "\n",
    "print('v1:', vecs1[:10])\n",
    "print('v2:', vecs2[:10])\n",
    "\n",
    "vm1 = sum(vecs1, Vector()) / len(vecs1)\n",
    "vm2 = sum(vecs2, Vector()) / len(vecs2)\n",
    "\n",
    "print(f'v1 mean: {vm1}')\n",
    "print(f'v2 mean: {vm2}')\n",
    "\n",
    "qm = vm1.normalized().rotation_difference(vm2.normalized())\n",
    "print(qm)"
   ]
  },
  {
   "cell_type": "markdown",
   "metadata": {},
   "source": [
    "## Rotation difference\n",
    "Rotating vm1 with qm results in vm2\n",
    "rotating vm2 with inverse of qm results in vm1"
   ]
  },
  {
   "cell_type": "code",
   "execution_count": 53,
   "metadata": {},
   "outputs": [
    {
     "name": "stdout",
     "output_type": "stream",
     "text": [
      "Vector((0.2869371175765991, 0.9551531672477722, -0.07314160466194153))\n",
      "Vector((0.15028220415115356, 0.9885730743408203, 0.011771452613174915))\n",
      "Vector((0.28693708777427673, 0.9551530480384827, -0.07314158976078033))\n"
     ]
    }
   ],
   "source": [
    "print(vm1.normalized())\n",
    "print(vm2.normalized())\n",
    "\n",
    "vx = vm2.normalized().copy()\n",
    "vx.rotate(qm.inverted())\n",
    "print(vx)"
   ]
  },
  {
   "cell_type": "markdown",
   "metadata": {},
   "source": [
    "## Similar direction, but different magnitude"
   ]
  },
  {
   "cell_type": "code",
   "execution_count": null,
   "metadata": {},
   "outputs": [],
   "source": [
    "for i in range(len(vecs1)):\n",
    "    v1r = vecs1[i].copy()\n",
    "    v1r.rotate(qm)\n",
    "    print(f'{v1r}, {vecs2[i]}')"
   ]
  },
  {
   "cell_type": "markdown",
   "metadata": {},
   "source": [
    "## Similar direction and magnitude, by scaling "
   ]
  },
  {
   "cell_type": "code",
   "execution_count": null,
   "metadata": {},
   "outputs": [],
   "source": [
    "vmm1 = sum([v.magnitude for v in vecs1]) / len(vecs1)\n",
    "vmm2 = sum([v.magnitude for v in vecs2]) / len(vecs2)\n",
    "\n",
    "print(vmm1)\n",
    "print(vmm2)\n",
    "\n",
    "# Now scale vecs1 to match vecs2\n",
    "for i in range(len(vecs1)):\n",
    "    v1r = vecs1[i].copy()\n",
    "    v1r.rotate(qm)\n",
    "    v1r.normalize()\n",
    "    v1r *= vmm2\n",
    "    print(f'{v1r}, {vecs2[i]}')\n"
   ]
  },
  {
   "cell_type": "markdown",
   "metadata": {},
   "source": [
    "## Rotation difference after offsetting vecs2 Y axis\n",
    "Subtract gravity (1000 milli g) from vecs2"
   ]
  },
  {
   "cell_type": "code",
   "execution_count": null,
   "metadata": {},
   "outputs": [],
   "source": [
    "gravity = Vector((0, 1000, 0))\n",
    "vecs2_no_g = [v - gravity for v in vecs2]\n",
    "\n",
    "vm2_no_g = sum(vecs2_no_g, Vector()) / len(vecs2_no_g)\n",
    "vmm2_no_g = sum([v.magnitude for v in vecs2_no_g]) / len(vecs2_no_g)\n",
    "\n",
    "qm_no_g = vm1.normalized().rotation_difference(vm2_no_g.normalized())\n",
    "print(f'{qm_no_g}')\n",
    "\n",
    "# Now scale vecs1 to match vecs2\n",
    "for i in range(len(vecs1)):\n",
    "    v1r = vecs1[i].copy()\n",
    "    v1r.rotate(qm_no_g)\n",
    "    v1r.normalize()\n",
    "    v1r *= vmm2_no_g\n",
    "\n",
    "    # # No grav\n",
    "    # print(f'{v1r}, {vecs2_no_g[i]}')\n",
    "\n",
    "    # With grav\n",
    "    v1r += gravity\n",
    "    print(f'{v1r}, {vecs2[i]}')\n"
   ]
  },
  {
   "cell_type": "markdown",
   "metadata": {},
   "source": [
    "## Applying to segment with moving sensor"
   ]
  },
  {
   "cell_type": "code",
   "execution_count": null,
   "metadata": {},
   "outputs": [],
   "source": [
    "# print(df[['Axis 0']])\n",
    "\n",
    "for i in range(len(vectors)):\n",
    "    v1r = vectors[i].copy()\n",
    "    v1r.rotate(qm_no_g)\n",
    "    v1r.normalize()\n",
    "    v1r *= vmm2_no_g\n",
    "\n",
    "    # With grav\n",
    "    v1r += gravity\n",
    "\n",
    "    # Update in df\n",
    "    df.at[i, 'Axis 0'] = round(v1r.x)\n",
    "    df.at[i, 'Axis 1'] = round(v1r.y)\n",
    "    df.at[i, 'Axis 2'] = round(v1r.z)\n",
    "\n",
    "# print(df[['Axis 0']])"
   ]
  },
  {
   "cell_type": "code",
   "execution_count": null,
   "metadata": {},
   "outputs": [],
   "source": [
    "# Save new file\n",
    "df.to_csv(csv_path.replace('.csv', '_rotated.csv'), index=False)"
   ]
  },
  {
   "cell_type": "markdown",
   "metadata": {},
   "source": [
    "## Translation instead of (gravity + scaling)"
   ]
  },
  {
   "cell_type": "code",
   "execution_count": 62,
   "metadata": {},
   "outputs": [
    {
     "name": "stdout",
     "output_type": "stream",
     "text": [
      "trans_vec: Vector((145.79200744628906, 983.1070556640625, 13.888334274291992))\n",
      "v1 new mean: Vector((149.67196655273438, 1008.629638671875, 14.192244529724121))\n",
      "v2 mean: Vector((153.20001220703125, 1007.7667236328125, 12.000000953674316))\n"
     ]
    }
   ],
   "source": [
    "# Difference between the two means\n",
    "trans_vec = vm2 - vm1\n",
    "print(f'trans_vec: {trans_vec}')\n",
    "\n",
    "sum_translated = Vector()\n",
    "\n",
    "# Now scale vecs1 to match vecs2\n",
    "for i in range(len(vecs1)):\n",
    "    v1r = vecs1[i].copy()\n",
    "    \n",
    "    # IMPORTANT!!!!!! Rotate first then translate\n",
    "    v1r.rotate(qm)\n",
    "    v1r += trans_vec\n",
    "\n",
    "    sum_translated += v1r\n",
    "\n",
    "    # print(f'{v1r}, {vecs2[i]}')\n",
    "\n",
    "print(f'v1 new mean: {sum_translated / len(vecs1)}')\n",
    "print(f'v2 mean: {vm2}')"
   ]
  },
  {
   "cell_type": "markdown",
   "metadata": {},
   "source": [
    "## Save to file"
   ]
  },
  {
   "cell_type": "code",
   "execution_count": 60,
   "metadata": {},
   "outputs": [],
   "source": [
    "for i in range(len(vectors)):\n",
    "    v1r = vectors[i].copy()\n",
    "    \n",
    "    v1r.rotate(qm)\n",
    "    v1r += trans_vec\n",
    "\n",
    "    # Update in df\n",
    "    df.at[i, 'Axis 0'] = round(v1r.x)\n",
    "    df.at[i, 'Axis 1'] = round(v1r.y)\n",
    "    df.at[i, 'Axis 2'] = round(v1r.z)"
   ]
  },
  {
   "cell_type": "code",
   "execution_count": 61,
   "metadata": {},
   "outputs": [],
   "source": [
    "# Save new file\n",
    "df.to_csv(csv_path.replace('.csv', '_rotated_translated.csv'), index=False)"
   ]
  }
 ],
 "metadata": {
  "kernelspec": {
   "display_name": "Python 3",
   "language": "python",
   "name": "python3"
  },
  "language_info": {
   "codemirror_mode": {
    "name": "ipython",
    "version": 3
   },
   "file_extension": ".py",
   "mimetype": "text/x-python",
   "name": "python",
   "nbconvert_exporter": "python",
   "pygments_lexer": "ipython3",
   "version": "3.11.4"
  }
 },
 "nbformat": 4,
 "nbformat_minor": 2
}
